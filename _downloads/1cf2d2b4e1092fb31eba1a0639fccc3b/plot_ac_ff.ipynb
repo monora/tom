{
  "cells": [
    {
      "cell_type": "code",
      "execution_count": null,
      "metadata": {
        "collapsed": false
      },
      "outputs": [],
      "source": [
        "%matplotlib inline"
      ]
    },
    {
      "cell_type": "markdown",
      "metadata": {},
      "source": [
        "\n# Example: Train from Amsterdam to Frankfurt\n\nHere we investigate the routing specification for example from\n`train-ac-ff-v1.yml`.\n\nGiven this infrastructure:\n\n.. uml:: ../uml/tom-04-example-ac-ff-infrastructure.puml\n\nThis object diagramm shows a szenario for a train from AC to Frankfurt FF which is planned to\noperate in december 2021. On Fri-Sun handover is EMM. On Mon-Thu handover is Venlo.\n\n.. uml:: ../uml/tom-04-example-ac-ff.puml\n\n"
      ]
    },
    {
      "cell_type": "code",
      "execution_count": null,
      "metadata": {
        "collapsed": false
      },
      "outputs": [],
      "source": [
        "from tom.plot import plot_train, plot_graph\nfrom tom.tom import make_train_from_yml, TrainRun, RouteSection, Route\nfrom tom.util import example, dump_routing_info_as_xml"
      ]
    },
    {
      "cell_type": "markdown",
      "metadata": {},
      "source": [
        "Load example 4 from yaml specification\n\n"
      ]
    },
    {
      "cell_type": "code",
      "execution_count": null,
      "metadata": {
        "collapsed": false
      },
      "outputs": [],
      "source": [
        "pattern = 'ac-ff-v1'\ntrain_specs, t_spec_file = example('../tests/data', pattern)\nprint(t_spec_file.read_text())"
      ]
    },
    {
      "cell_type": "markdown",
      "metadata": {},
      "source": [
        "Create train object and show its train id.\n\n"
      ]
    },
    {
      "cell_type": "code",
      "execution_count": null,
      "metadata": {
        "collapsed": false
      },
      "outputs": [],
      "source": [
        "t = make_train_from_yml(t_spec_file)\nt.train_id()"
      ]
    },
    {
      "cell_type": "markdown",
      "metadata": {},
      "source": [
        "## Timetable\n\nWith :meth:`~tom.tom.Train.to_dataframe` you can create a `Pandas DataFrame`_ which you can\nexport to excel.\n\n"
      ]
    },
    {
      "cell_type": "code",
      "execution_count": null,
      "metadata": {
        "collapsed": false
      },
      "outputs": [],
      "source": [
        "df = t.to_dataframe()\ndf"
      ]
    },
    {
      "cell_type": "markdown",
      "metadata": {},
      "source": [
        "## Bildfahrplan\nShow timetable as plot\n\n"
      ]
    },
    {
      "cell_type": "code",
      "execution_count": null,
      "metadata": {
        "collapsed": false
      },
      "outputs": [],
      "source": [
        "plot_train(t)"
      ]
    },
    {
      "cell_type": "markdown",
      "metadata": {},
      "source": [
        "Show only the first week\n\n"
      ]
    },
    {
      "cell_type": "code",
      "execution_count": null,
      "metadata": {
        "collapsed": false
      },
      "outputs": [],
      "source": [
        "plot_train(t, no_of_runs=7)"
      ]
    },
    {
      "cell_type": "markdown",
      "metadata": {},
      "source": [
        "## Route Sections\nFrom which sections the train is composed?\n\n"
      ]
    },
    {
      "cell_type": "code",
      "execution_count": null,
      "metadata": {
        "collapsed": false
      },
      "outputs": [],
      "source": [
        "section: RouteSection\nfor section in t.sections:\n    print(section.description(), \"\\n\")"
      ]
    },
    {
      "cell_type": "markdown",
      "metadata": {},
      "source": [
        "## Section graph\nThe section graph is computed using the successor relation:\n\n"
      ]
    },
    {
      "cell_type": "code",
      "execution_count": null,
      "metadata": {
        "collapsed": false
      },
      "outputs": [],
      "source": [
        "sg = t.section_graph()\nplot_graph(sg)"
      ]
    },
    {
      "cell_type": "markdown",
      "metadata": {},
      "source": [
        "## Routes\nPrint all possible routes.\nRoutes are calculated from all possible paths in the section graph.\n\n"
      ]
    },
    {
      "cell_type": "code",
      "execution_count": null,
      "metadata": {
        "collapsed": false
      },
      "outputs": [],
      "source": [
        "route: Route\nfor route in t.routes():\n    print(route.description(), \"\\n\")"
      ]
    },
    {
      "cell_type": "markdown",
      "metadata": {},
      "source": [
        "## Section runs\nFor each day of the calendar of a section a `SectionRun` is created.\nThe section runs are the rows of RouteSection.to_dataframe:\n\n"
      ]
    },
    {
      "cell_type": "code",
      "execution_count": null,
      "metadata": {
        "collapsed": false
      },
      "outputs": [],
      "source": [
        "for section in t.sections:\n    print(f\"{section.section_id}: {section}\")\n    print(section.to_dataframe(), \"\\n\")"
      ]
    },
    {
      "cell_type": "markdown",
      "metadata": {},
      "source": [
        "## TrainRuns\nEach `TrainRun` defines a row in the timetable of the train above\n\n"
      ]
    },
    {
      "cell_type": "code",
      "execution_count": null,
      "metadata": {
        "collapsed": false
      },
      "outputs": [],
      "source": [
        "tr: TrainRun\nfor tr in t.train_run_iterator():\n    print(tr)\n    for sr in tr.sections_runs:\n        print(sr)\n    print(\"\\n\")"
      ]
    },
    {
      "cell_type": "markdown",
      "metadata": {},
      "source": [
        "## RoutingInformation as TrainInformation\nAn XML Dump of the routing information of this example according a new version of the TSI XSD.\n\nSee `Routing planning <../routing-planning-process.html#routininformation-as-traininformation>`_\nfor more details.\n\n"
      ]
    },
    {
      "cell_type": "code",
      "execution_count": null,
      "metadata": {
        "collapsed": false
      },
      "outputs": [],
      "source": [
        "print(dump_routing_info_as_xml(t))"
      ]
    }
  ],
  "metadata": {
    "kernelspec": {
      "display_name": "Python 3",
      "language": "python",
      "name": "python3"
    },
    "language_info": {
      "codemirror_mode": {
        "name": "ipython",
        "version": 3
      },
      "file_extension": ".py",
      "mimetype": "text/x-python",
      "name": "python",
      "nbconvert_exporter": "python",
      "pygments_lexer": "ipython3",
      "version": "3.8.6"
    }
  },
  "nbformat": 4,
  "nbformat_minor": 0
}