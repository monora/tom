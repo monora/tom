{
  "cells": [
    {
      "cell_type": "code",
      "execution_count": null,
      "metadata": {
        "collapsed": false
      },
      "outputs": [],
      "source": [
        "%matplotlib inline"
      ]
    },
    {
      "cell_type": "markdown",
      "metadata": {},
      "source": [
        "\n# Example: Night Train from Amsterdam to Z\u00fcrich\n\n*Standard schedule* 2021/22 from Amsterdam over Emmerich, Basel to Z\u00fcrich (a single route) on\nfridays, saturdays and sundays::\n\n    Route     : XNAC-EEM-RXBA-XSZH\n    Calendar  : 12/12/2021 to 12/12/2022 Fri, Sat, Sun\n    Start   at: 20:00 in XNAC\n    Arrival at: 21:30 in EEM\n    Arrival at: 03:30 in RXBA\n    Arrival at: 04:30 in XSZH\n\n*Update schedule* due to construction work between Amsterdam and Utrecht on sundays from\n12/04/2022 on:\n\nThe train on sundays starts in Utrecht with destination Basel and handover Venlo.\nTherefore we need to routes from April on: ::\n\n    Route     : XNAC-EEM-RXBA-XSZH\n    Calendar  : 12/04/2022 to 12/12/2022 Fri, Sat\n    Start   at: 20:00 in XNAC\n    Arrival at: 21:30 in EEM\n    Arrival at: 03:30 in RXBA\n    Arrival at: 04:30 in XSZH\n\n    Route     : XNU-XNVL-RXBA\n    Calendar  : 12/04/2022 to 12/12/2022 Sun\n    Start   at: 20:30 in XNU\n    Arrival at: 22:00 in XNVL\n    Arrival at: 04:00 in RXBA\n"
      ]
    },
    {
      "cell_type": "code",
      "execution_count": null,
      "metadata": {
        "collapsed": false
      },
      "outputs": [],
      "source": [
        "from tom.plot import plot_train, plot_graph\nfrom tom.tom import make_train_from_yml, TrainRun, RouteSection, Route\nfrom tom.util import example"
      ]
    },
    {
      "cell_type": "markdown",
      "metadata": {},
      "source": [
        "## Standard schedule (version 1)\n\nLoad example night train 2021/22 standard schedule (version 1) from yaml specification\n\n"
      ]
    },
    {
      "cell_type": "code",
      "execution_count": null,
      "metadata": {
        "collapsed": false
      },
      "outputs": [],
      "source": [
        "_, t_spec_file = example('../tests/data', 'ac-zue-1')\nprint(t_spec_file.read_text())"
      ]
    },
    {
      "cell_type": "markdown",
      "metadata": {},
      "source": [
        "Create train object and show its train id\n\n"
      ]
    },
    {
      "cell_type": "code",
      "execution_count": null,
      "metadata": {
        "collapsed": false
      },
      "outputs": [],
      "source": [
        "t = make_train_from_yml(t_spec_file)\nt.train_id()"
      ]
    },
    {
      "cell_type": "markdown",
      "metadata": {},
      "source": [
        "### Timetable V1\nShow timetable as dataframe\n\n"
      ]
    },
    {
      "cell_type": "code",
      "execution_count": null,
      "metadata": {
        "collapsed": false
      },
      "outputs": [],
      "source": [
        "df = t.to_dataframe()\ndf"
      ]
    },
    {
      "cell_type": "markdown",
      "metadata": {},
      "source": [
        "### Bildfahrplan\nShow timetable as plot.\nNo sections from Utrecht over Venlo here.\n\n"
      ]
    },
    {
      "cell_type": "code",
      "execution_count": null,
      "metadata": {
        "collapsed": false
      },
      "outputs": [],
      "source": [
        "stations = ['XNAC', 'XNU', 'EEM', 'XNVL', 'RXBA', 'XSZH']\nplot_train(t, all_stations=stations)"
      ]
    },
    {
      "cell_type": "markdown",
      "metadata": {},
      "source": [
        "### Route Sections\nFrom which sections the train is composed?\n\n"
      ]
    },
    {
      "cell_type": "code",
      "execution_count": null,
      "metadata": {
        "collapsed": false
      },
      "outputs": [],
      "source": [
        "section: RouteSection\nfor section in t.sections:\n    print(section.description(), \"\\n\")"
      ]
    },
    {
      "cell_type": "markdown",
      "metadata": {},
      "source": [
        "### Section graph\nThe section graph is computed using the successor relation:\n\n"
      ]
    },
    {
      "cell_type": "code",
      "execution_count": null,
      "metadata": {
        "collapsed": false
      },
      "outputs": [],
      "source": [
        "sg = t.section_graph()\nplot_graph(sg)"
      ]
    },
    {
      "cell_type": "markdown",
      "metadata": {},
      "source": [
        "### Routes\nPrint all possible routes.\nRoutes are calculated from all possible paths in the section graph.\nVersion 1 has only one route with three sections.\n\n"
      ]
    },
    {
      "cell_type": "code",
      "execution_count": null,
      "metadata": {
        "collapsed": false
      },
      "outputs": [],
      "source": [
        "route: Route\nfor route in t.routes():\n    print(route.description(), \"\\n\")"
      ]
    },
    {
      "cell_type": "markdown",
      "metadata": {},
      "source": [
        "### Section runs\nFor each day of the calendar of a section a `SectionRun` is created.\nThe section runs are the rows of RouteSection.to_dataframe.\nWe only show the section run in december here.\n\n"
      ]
    },
    {
      "cell_type": "code",
      "execution_count": null,
      "metadata": {
        "collapsed": false
      },
      "outputs": [],
      "source": [
        "for section in t.sections:\n    print(f\"{section.section_id}: {section}\")\n    print(section.to_dataframe(), \"\\n\")"
      ]
    },
    {
      "cell_type": "markdown",
      "metadata": {},
      "source": [
        "### TrainRuns\nEach `TrainRun` defines a row in the timetable of the train above.\n\n"
      ]
    },
    {
      "cell_type": "code",
      "execution_count": null,
      "metadata": {
        "collapsed": false
      },
      "outputs": [],
      "source": [
        "tr: TrainRun\nfor tr in t.train_run_iterator():\n    print(tr)\n    for sr in tr.sections_runs:\n        print(sr)\n    print(\"\\n\")"
      ]
    },
    {
      "cell_type": "markdown",
      "metadata": {},
      "source": [
        "## Update schedule (version 2)\n\nVersion 2 of the train contains the update from april on.\n\n"
      ]
    },
    {
      "cell_type": "code",
      "execution_count": null,
      "metadata": {
        "collapsed": false
      },
      "outputs": [],
      "source": [
        "_, t_spec_file = example('../tests/data', 'ac-zue-2')\nprint(t_spec_file.read_text())\nt = make_train_from_yml(t_spec_file)"
      ]
    },
    {
      "cell_type": "markdown",
      "metadata": {},
      "source": [
        "### Timetable V2\nVersion 2 has train runs on sundays from Utrecht to Basel.\n\n"
      ]
    },
    {
      "cell_type": "code",
      "execution_count": null,
      "metadata": {
        "collapsed": false
      },
      "outputs": [],
      "source": [
        "df = t.to_dataframe()\ndf"
      ]
    },
    {
      "cell_type": "markdown",
      "metadata": {},
      "source": [
        "### Bildfahrplan\nOn sundays the trains only go to Basel from Utrecht over Venlo.\n\n"
      ]
    },
    {
      "cell_type": "code",
      "execution_count": null,
      "metadata": {
        "collapsed": false
      },
      "outputs": [],
      "source": [
        "plot_train(t, all_stations=stations)"
      ]
    },
    {
      "cell_type": "markdown",
      "metadata": {},
      "source": [
        "### Route Sections\nTo realize the schedule we need two new section (with ID 20 and 40)\nAll oteher section have a new version 2, because the calender had to\nshortened by sunday.\n\n"
      ]
    },
    {
      "cell_type": "code",
      "execution_count": null,
      "metadata": {
        "collapsed": false
      },
      "outputs": [],
      "source": [
        "section: RouteSection\nfor section in t.sections:\n    print(section.description(), \"\\n\")"
      ]
    },
    {
      "cell_type": "markdown",
      "metadata": {},
      "source": [
        "### Section graph\nThe section graph now has two new sections, which define the second route.\n\n"
      ]
    },
    {
      "cell_type": "code",
      "execution_count": null,
      "metadata": {
        "collapsed": false
      },
      "outputs": [],
      "source": [
        "sg = t.section_graph()\nplot_graph(sg)"
      ]
    },
    {
      "cell_type": "markdown",
      "metadata": {},
      "source": [
        "### Routes\nFrom april on we have one new route:\n\n"
      ]
    },
    {
      "cell_type": "code",
      "execution_count": null,
      "metadata": {
        "collapsed": false
      },
      "outputs": [],
      "source": [
        "route: Route\nfor route in t.routes():\n    print(route.description(), \"\\n\")"
      ]
    },
    {
      "cell_type": "markdown",
      "metadata": {},
      "source": [
        "### Section runs\n\n"
      ]
    },
    {
      "cell_type": "code",
      "execution_count": null,
      "metadata": {
        "collapsed": false
      },
      "outputs": [],
      "source": [
        "for section in t.sections:\n    print(f\"{section.section_id}: {section}\")\n    print(section.to_dataframe(), \"\\n\")"
      ]
    },
    {
      "cell_type": "markdown",
      "metadata": {},
      "source": [
        "### TrainRuns\n\n"
      ]
    },
    {
      "cell_type": "code",
      "execution_count": null,
      "metadata": {
        "collapsed": false
      },
      "outputs": [],
      "source": [
        "tr: TrainRun\nfor tr in t.train_run_iterator():\n    print(tr)\n    for sr in tr.sections_runs:\n        print(sr)\n    print(\"\\n\")"
      ]
    }
  ],
  "metadata": {
    "kernelspec": {
      "display_name": "Python 3",
      "language": "python",
      "name": "python3"
    },
    "language_info": {
      "codemirror_mode": {
        "name": "ipython",
        "version": 3
      },
      "file_extension": ".py",
      "mimetype": "text/x-python",
      "name": "python",
      "nbconvert_exporter": "python",
      "pygments_lexer": "ipython3",
      "version": "3.8.6"
    }
  },
  "nbformat": 4,
  "nbformat_minor": 0
}