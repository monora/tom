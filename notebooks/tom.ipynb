{
 "cells": [
  {
   "cell_type": "markdown",
   "metadata": {},
   "source": [
    "# Introduce TOM with examples\n",
    "\n",
    "## List of examples\n",
    "The directory [tests/data](https://github.com/monora/tom/tree/master/tests/data) contains the list of example trains specifications."
   ]
  },
  {
   "cell_type": "code",
   "execution_count": 10,
   "metadata": {
    "pycharm": {
     "name": "#%%\n"
    }
   },
   "outputs": [
    {
     "data": {
      "text/plain": "['train-a-f-v2.yml',\n 'train-a-f.yml',\n 'train-ac-ff-v2.yml',\n 'train-ac-ff.yml',\n 'train-annex-4-2.yml',\n 'train-annex-4-3.yml',\n 'train-annex-4.yml',\n 'train-condensed-1.yml',\n 'train-condensed-2.yml']"
     },
     "execution_count": 10,
     "metadata": {},
     "output_type": "execute_result"
    }
   ],
   "source": [
    "import os\n",
    "test_data = '../tests/data'\n",
    "train_specs = os.listdir(test_data)\n",
    "train_specs"
   ]
  },
  {
   "cell_type": "markdown",
   "metadata": {
    "pycharm": {
     "name": "#%% md\n"
    }
   },
   "source": [
    "## Import tom module"
   ]
  },
  {
   "cell_type": "code",
   "execution_count": 11,
   "metadata": {
    "pycharm": {
     "name": "#%%\n"
    }
   },
   "outputs": [],
   "source": [
    "from tom.tom import *\n",
    "from pathlib import Path"
   ]
  },
  {
   "cell_type": "markdown",
   "metadata": {
    "pycharm": {
     "name": "#%% md\n"
    }
   },
   "source": [
    "## Load example from YAML test data"
   ]
  },
  {
   "cell_type": "code",
   "execution_count": 12,
   "metadata": {
    "pycharm": {
     "name": "#%%\n"
    }
   },
   "outputs": [
    {
     "name": "stdout",
     "output_type": "stream",
     "text": [
      "---\n",
      "coreID: ID1\n",
      "lead_ru: RU1\n",
      "version: 1 # RoutingInfo version\n",
      "sections:\n",
      "    - id: 10.01\n",
      "      version: 1 # RouteSection version\n",
      "      applicant_ru: RU1\n",
      "      planning_im: IM1\n",
      "      departure_station: S\n",
      "      departure_time: '00:10:00'\n",
      "      arrival_station: H1\n",
      "      travel_time: &s1-tt '24:20:00'\n",
      "      calendar:\n",
      "        begin: '2021-02-01'\n",
      "        end: '2021-02-07'\n",
      "      succ:\n",
      "          - 10.02\n",
      "    - id: 10.02\n",
      "      version: 1\n",
      "      applicant_ru: RU2\n",
      "      planning_im: IM2\n",
      "      departure_station: H1\n",
      "      arrival_station: T\n",
      "      travel_time: &s2-tt 07:30:00\n",
      "    - id: 20.01\n",
      "      version: 1\n",
      "      applicant_ru: RU1\n",
      "      planning_im: IM1\n",
      "      departure_station: S\n",
      "      departure_time: '23:50:00'\n",
      "      arrival_station: H1\n",
      "      travel_time: *s1-tt\n",
      "      calendar:\n",
      "        begin: '2021-02-07'\n",
      "        end: '2021-02-13'\n",
      "      succ:\n",
      "          - 20.02\n",
      "    - id: 20.02\n",
      "      version: 1\n",
      "      applicant_ru: RU2\n",
      "      planning_im: IM2\n",
      "      departure_station: H1\n",
      "      arrival_station: T\n",
      "      travel_time: *s2-tt\n",
      "    - id: 30.01\n",
      "      version: 1\n",
      "      applicant_ru: RU1\n",
      "      planning_im: IM1\n",
      "      departure_station: D\n",
      "      departure_time: '02:00:00'\n",
      "      arrival_station: H1\n",
      "      travel_time: '22:30:00'\n",
      "      calendar:\n",
      "        begin: '2021-02-15'\n",
      "        end: '2021-02-20'\n",
      "      succ:\n",
      "          - 30.02\n",
      "    - id: 30.02\n",
      "      version: 1\n",
      "      applicant_ru: RU2\n",
      "      planning_im: IM2\n",
      "      departure_station: H1\n",
      "      arrival_station: T\n",
      "      travel_time: *s2-tt\n",
      "\n"
     ]
    }
   ],
   "source": [
    "# Select train spec by name\n",
    "t_spec_file = test_data + '/'\n",
    "t_spec_file += next(spec for spec in train_specs if 'annex-4.yml' in spec)\n",
    "# Show contents\n",
    "print(Path(t_spec_file).read_text())"
   ]
  },
  {
   "cell_type": "markdown",
   "metadata": {
    "pycharm": {
     "name": "#%% md\n"
    }
   },
   "source": [
    "## Parse yaml spec and create train object"
   ]
  },
  {
   "cell_type": "code",
   "execution_count": 13,
   "metadata": {
    "pycharm": {
     "name": "#%%\n"
    }
   },
   "outputs": [],
   "source": [
    "t = make_train_from_yml(Path(t_spec_file))"
   ]
  },
  {
   "cell_type": "markdown",
   "metadata": {
    "pycharm": {
     "name": "#%% md\n"
    }
   },
   "source": [
    "## Investigate train data structure\n",
    "### Which train id?"
   ]
  },
  {
   "cell_type": "code",
   "execution_count": 14,
   "metadata": {
    "pycharm": {
     "name": "#%%\n"
    }
   },
   "outputs": [
    {
     "data": {
      "text/plain": "'TR/8350/ID1/2021'"
     },
     "execution_count": 14,
     "metadata": {},
     "output_type": "execute_result"
    }
   ],
   "source": [
    "t.train_id()"
   ]
  },
  {
   "cell_type": "markdown",
   "metadata": {
    "pycharm": {
     "name": "#%% md\n"
    }
   },
   "source": [
    "### Show timetable as pandas dataframe\n",
    "_NaT_ means, that at this date the train does not operate"
   ]
  },
  {
   "cell_type": "code",
   "execution_count": 15,
   "metadata": {
    "pycharm": {
     "name": "#%%\n"
    }
   },
   "outputs": [
    {
     "data": {
      "text/plain": "                                                     D                    S  \\\nTR/8350/ID1/2021/10.01/2021-02-01                  NaT  2021-02-01 00:10:00   \nTR/8350/ID1/2021/10.01/2021-02-02                  NaT  2021-02-02 00:10:00   \nTR/8350/ID1/2021/10.01/2021-02-03                  NaT  2021-02-03 00:10:00   \nTR/8350/ID1/2021/10.01/2021-02-04                  NaT  2021-02-04 00:10:00   \nTR/8350/ID1/2021/10.01/2021-02-05                  NaT  2021-02-05 00:10:00   \nTR/8350/ID1/2021/10.01/2021-02-06                  NaT  2021-02-06 00:10:00   \nTR/8350/ID1/2021/10.01/2021-02-07                  NaT  2021-02-07 00:10:00   \nTR/8350/ID1/2021/20.01/2021-02-07                  NaT  2021-02-07 23:50:00   \nTR/8350/ID1/2021/20.01/2021-02-08                  NaT  2021-02-08 23:50:00   \nTR/8350/ID1/2021/20.01/2021-02-09                  NaT  2021-02-09 23:50:00   \nTR/8350/ID1/2021/20.01/2021-02-10                  NaT  2021-02-10 23:50:00   \nTR/8350/ID1/2021/20.01/2021-02-11                  NaT  2021-02-11 23:50:00   \nTR/8350/ID1/2021/20.01/2021-02-12                  NaT  2021-02-12 23:50:00   \nTR/8350/ID1/2021/20.01/2021-02-13                  NaT  2021-02-13 23:50:00   \nTR/8350/ID1/2021/30.01/2021-02-15  2021-02-15 02:00:00                  NaT   \nTR/8350/ID1/2021/30.01/2021-02-16  2021-02-16 02:00:00                  NaT   \nTR/8350/ID1/2021/30.01/2021-02-17  2021-02-17 02:00:00                  NaT   \nTR/8350/ID1/2021/30.01/2021-02-18  2021-02-18 02:00:00                  NaT   \nTR/8350/ID1/2021/30.01/2021-02-19  2021-02-19 02:00:00                  NaT   \nTR/8350/ID1/2021/30.01/2021-02-20  2021-02-20 02:00:00                  NaT   \n\n                                                    H1                    T  \nTR/8350/ID1/2021/10.01/2021-02-01  2021-02-02 00:30:00  2021-02-02 08:00:00  \nTR/8350/ID1/2021/10.01/2021-02-02  2021-02-03 00:30:00  2021-02-03 08:00:00  \nTR/8350/ID1/2021/10.01/2021-02-03  2021-02-04 00:30:00  2021-02-04 08:00:00  \nTR/8350/ID1/2021/10.01/2021-02-04  2021-02-05 00:30:00  2021-02-05 08:00:00  \nTR/8350/ID1/2021/10.01/2021-02-05  2021-02-06 00:30:00  2021-02-06 08:00:00  \nTR/8350/ID1/2021/10.01/2021-02-06  2021-02-07 00:30:00  2021-02-07 08:00:00  \nTR/8350/ID1/2021/10.01/2021-02-07  2021-02-08 00:30:00  2021-02-08 08:00:00  \nTR/8350/ID1/2021/20.01/2021-02-07  2021-02-09 00:10:00  2021-02-09 07:40:00  \nTR/8350/ID1/2021/20.01/2021-02-08  2021-02-10 00:10:00  2021-02-10 07:40:00  \nTR/8350/ID1/2021/20.01/2021-02-09  2021-02-11 00:10:00  2021-02-11 07:40:00  \nTR/8350/ID1/2021/20.01/2021-02-10  2021-02-12 00:10:00  2021-02-12 07:40:00  \nTR/8350/ID1/2021/20.01/2021-02-11  2021-02-13 00:10:00  2021-02-13 07:40:00  \nTR/8350/ID1/2021/20.01/2021-02-12  2021-02-14 00:10:00  2021-02-14 07:40:00  \nTR/8350/ID1/2021/20.01/2021-02-13  2021-02-15 00:10:00  2021-02-15 07:40:00  \nTR/8350/ID1/2021/30.01/2021-02-15  2021-02-16 00:30:00  2021-02-16 08:00:00  \nTR/8350/ID1/2021/30.01/2021-02-16  2021-02-17 00:30:00  2021-02-17 08:00:00  \nTR/8350/ID1/2021/30.01/2021-02-17  2021-02-18 00:30:00  2021-02-18 08:00:00  \nTR/8350/ID1/2021/30.01/2021-02-18  2021-02-19 00:30:00  2021-02-19 08:00:00  \nTR/8350/ID1/2021/30.01/2021-02-19  2021-02-20 00:30:00  2021-02-20 08:00:00  \nTR/8350/ID1/2021/30.01/2021-02-20  2021-02-21 00:30:00  2021-02-21 08:00:00  ",
      "text/html": "<div>\n<style scoped>\n    .dataframe tbody tr th:only-of-type {\n        vertical-align: middle;\n    }\n\n    .dataframe tbody tr th {\n        vertical-align: top;\n    }\n\n    .dataframe thead th {\n        text-align: right;\n    }\n</style>\n<table border=\"1\" class=\"dataframe\">\n  <thead>\n    <tr style=\"text-align: right;\">\n      <th></th>\n      <th>D</th>\n      <th>S</th>\n      <th>H1</th>\n      <th>T</th>\n    </tr>\n  </thead>\n  <tbody>\n    <tr>\n      <th>TR/8350/ID1/2021/10.01/2021-02-01</th>\n      <td>NaT</td>\n      <td>2021-02-01 00:10:00</td>\n      <td>2021-02-02 00:30:00</td>\n      <td>2021-02-02 08:00:00</td>\n    </tr>\n    <tr>\n      <th>TR/8350/ID1/2021/10.01/2021-02-02</th>\n      <td>NaT</td>\n      <td>2021-02-02 00:10:00</td>\n      <td>2021-02-03 00:30:00</td>\n      <td>2021-02-03 08:00:00</td>\n    </tr>\n    <tr>\n      <th>TR/8350/ID1/2021/10.01/2021-02-03</th>\n      <td>NaT</td>\n      <td>2021-02-03 00:10:00</td>\n      <td>2021-02-04 00:30:00</td>\n      <td>2021-02-04 08:00:00</td>\n    </tr>\n    <tr>\n      <th>TR/8350/ID1/2021/10.01/2021-02-04</th>\n      <td>NaT</td>\n      <td>2021-02-04 00:10:00</td>\n      <td>2021-02-05 00:30:00</td>\n      <td>2021-02-05 08:00:00</td>\n    </tr>\n    <tr>\n      <th>TR/8350/ID1/2021/10.01/2021-02-05</th>\n      <td>NaT</td>\n      <td>2021-02-05 00:10:00</td>\n      <td>2021-02-06 00:30:00</td>\n      <td>2021-02-06 08:00:00</td>\n    </tr>\n    <tr>\n      <th>TR/8350/ID1/2021/10.01/2021-02-06</th>\n      <td>NaT</td>\n      <td>2021-02-06 00:10:00</td>\n      <td>2021-02-07 00:30:00</td>\n      <td>2021-02-07 08:00:00</td>\n    </tr>\n    <tr>\n      <th>TR/8350/ID1/2021/10.01/2021-02-07</th>\n      <td>NaT</td>\n      <td>2021-02-07 00:10:00</td>\n      <td>2021-02-08 00:30:00</td>\n      <td>2021-02-08 08:00:00</td>\n    </tr>\n    <tr>\n      <th>TR/8350/ID1/2021/20.01/2021-02-07</th>\n      <td>NaT</td>\n      <td>2021-02-07 23:50:00</td>\n      <td>2021-02-09 00:10:00</td>\n      <td>2021-02-09 07:40:00</td>\n    </tr>\n    <tr>\n      <th>TR/8350/ID1/2021/20.01/2021-02-08</th>\n      <td>NaT</td>\n      <td>2021-02-08 23:50:00</td>\n      <td>2021-02-10 00:10:00</td>\n      <td>2021-02-10 07:40:00</td>\n    </tr>\n    <tr>\n      <th>TR/8350/ID1/2021/20.01/2021-02-09</th>\n      <td>NaT</td>\n      <td>2021-02-09 23:50:00</td>\n      <td>2021-02-11 00:10:00</td>\n      <td>2021-02-11 07:40:00</td>\n    </tr>\n    <tr>\n      <th>TR/8350/ID1/2021/20.01/2021-02-10</th>\n      <td>NaT</td>\n      <td>2021-02-10 23:50:00</td>\n      <td>2021-02-12 00:10:00</td>\n      <td>2021-02-12 07:40:00</td>\n    </tr>\n    <tr>\n      <th>TR/8350/ID1/2021/20.01/2021-02-11</th>\n      <td>NaT</td>\n      <td>2021-02-11 23:50:00</td>\n      <td>2021-02-13 00:10:00</td>\n      <td>2021-02-13 07:40:00</td>\n    </tr>\n    <tr>\n      <th>TR/8350/ID1/2021/20.01/2021-02-12</th>\n      <td>NaT</td>\n      <td>2021-02-12 23:50:00</td>\n      <td>2021-02-14 00:10:00</td>\n      <td>2021-02-14 07:40:00</td>\n    </tr>\n    <tr>\n      <th>TR/8350/ID1/2021/20.01/2021-02-13</th>\n      <td>NaT</td>\n      <td>2021-02-13 23:50:00</td>\n      <td>2021-02-15 00:10:00</td>\n      <td>2021-02-15 07:40:00</td>\n    </tr>\n    <tr>\n      <th>TR/8350/ID1/2021/30.01/2021-02-15</th>\n      <td>2021-02-15 02:00:00</td>\n      <td>NaT</td>\n      <td>2021-02-16 00:30:00</td>\n      <td>2021-02-16 08:00:00</td>\n    </tr>\n    <tr>\n      <th>TR/8350/ID1/2021/30.01/2021-02-16</th>\n      <td>2021-02-16 02:00:00</td>\n      <td>NaT</td>\n      <td>2021-02-17 00:30:00</td>\n      <td>2021-02-17 08:00:00</td>\n    </tr>\n    <tr>\n      <th>TR/8350/ID1/2021/30.01/2021-02-17</th>\n      <td>2021-02-17 02:00:00</td>\n      <td>NaT</td>\n      <td>2021-02-18 00:30:00</td>\n      <td>2021-02-18 08:00:00</td>\n    </tr>\n    <tr>\n      <th>TR/8350/ID1/2021/30.01/2021-02-18</th>\n      <td>2021-02-18 02:00:00</td>\n      <td>NaT</td>\n      <td>2021-02-19 00:30:00</td>\n      <td>2021-02-19 08:00:00</td>\n    </tr>\n    <tr>\n      <th>TR/8350/ID1/2021/30.01/2021-02-19</th>\n      <td>2021-02-19 02:00:00</td>\n      <td>NaT</td>\n      <td>2021-02-20 00:30:00</td>\n      <td>2021-02-20 08:00:00</td>\n    </tr>\n    <tr>\n      <th>TR/8350/ID1/2021/30.01/2021-02-20</th>\n      <td>2021-02-20 02:00:00</td>\n      <td>NaT</td>\n      <td>2021-02-21 00:30:00</td>\n      <td>2021-02-21 08:00:00</td>\n    </tr>\n  </tbody>\n</table>\n</div>"
     },
     "execution_count": 15,
     "metadata": {},
     "output_type": "execute_result"
    }
   ],
   "source": [
    "timetable = t.to_dataframe()\n",
    "timetable"
   ]
  },
  {
   "cell_type": "markdown",
   "metadata": {
    "pycharm": {
     "name": "#%% md\n"
    }
   },
   "source": [
    "## Train sections\n",
    "From which sections is the train composed?"
   ]
  },
  {
   "cell_type": "code",
   "execution_count": 16,
   "metadata": {
    "pycharm": {
     "name": "#%%\n"
    }
   },
   "outputs": [
    {
     "name": "stdout",
     "output_type": "stream",
     "text": [
      "ID        : 10.01v1\n",
      "Calender  : 01/02 to 07/02\n",
      "Start   at: 00:10 in S\n",
      "Arrival at: 00:30 in H1\n",
      "Successors: [10.02] \n",
      "\n",
      "ID        : 10.02v1\n",
      "Calender  : 02/02 to 08/02\n",
      "Start   at: 00:30 in H1\n",
      "Arrival at: 08:00 in T\n",
      "Successors: [] \n",
      "\n",
      "ID        : 20.01v1\n",
      "Calender  : 07/02 to 13/02\n",
      "Start   at: 23:50 in S\n",
      "Arrival at: 00:10 in H1\n",
      "Successors: [20.02] \n",
      "\n",
      "ID        : 20.02v1\n",
      "Calender  : 09/02 to 15/02\n",
      "Start   at: 00:10 in H1\n",
      "Arrival at: 07:40 in T\n",
      "Successors: [] \n",
      "\n",
      "ID        : 30.01v1\n",
      "Calender  : 15/02 to 20/02\n",
      "Start   at: 02:00 in D\n",
      "Arrival at: 00:30 in H1\n",
      "Successors: [30.02] \n",
      "\n",
      "ID        : 30.02v1\n",
      "Calender  : 16/02 to 21/02\n",
      "Start   at: 00:30 in H1\n",
      "Arrival at: 08:00 in T\n",
      "Successors: [] \n",
      "\n"
     ]
    }
   ],
   "source": [
    "for section in t.sections:\n",
    "    print(section.description(), \"\\n\")"
   ]
  },
  {
   "cell_type": "markdown",
   "metadata": {
    "pycharm": {
     "name": "#%% md\n"
    }
   },
   "source": [
    "## Section graph\n",
    "The section graph is computed using the successor relation:"
   ]
  },
  {
   "cell_type": "code",
   "execution_count": 17,
   "metadata": {
    "pycharm": {
     "name": "#%%\n"
    }
   },
   "outputs": [
    {
     "data": {
      "text/plain": "OutEdgeView([('10.01v1', '10.02v1'), ('20.01v1', '20.02v1'), ('30.01v1', '30.02v1')])"
     },
     "execution_count": 17,
     "metadata": {},
     "output_type": "execute_result"
    }
   ],
   "source": [
    "sg = t.section_graph()\n",
    "sg.edges"
   ]
  },
  {
   "cell_type": "markdown",
   "metadata": {
    "pycharm": {
     "name": "#%% md\n"
    }
   },
   "source": [
    "## Section runs\n",
    "For each day of a section a *section run* is created.\n",
    "The section runs are the rows of *RouteSection.to_dataframe*:"
   ]
  },
  {
   "cell_type": "code",
   "execution_count": 18,
   "metadata": {
    "pycharm": {
     "name": "#%%\n"
    }
   },
   "outputs": [
    {
     "name": "stdout",
     "output_type": "stream",
     "text": [
      "10.01: S-H1\n",
      "\n",
      "               ID                   S                  H1\n",
      "2021-02-01  10.01 2021-02-01 00:10:00 2021-02-02 00:30:00\n",
      "2021-02-02  10.01 2021-02-02 00:10:00 2021-02-03 00:30:00\n",
      "2021-02-03  10.01 2021-02-03 00:10:00 2021-02-04 00:30:00\n",
      "2021-02-04  10.01 2021-02-04 00:10:00 2021-02-05 00:30:00\n",
      "2021-02-05  10.01 2021-02-05 00:10:00 2021-02-06 00:30:00\n",
      "2021-02-06  10.01 2021-02-06 00:10:00 2021-02-07 00:30:00\n",
      "2021-02-07  10.01 2021-02-07 00:10:00 2021-02-08 00:30:00 \n",
      "\n",
      "10.02: H1-T\n",
      "\n",
      "               ID                  H1                   T\n",
      "2021-02-02  10.02 2021-02-02 00:30:00 2021-02-02 08:00:00\n",
      "2021-02-03  10.02 2021-02-03 00:30:00 2021-02-03 08:00:00\n",
      "2021-02-04  10.02 2021-02-04 00:30:00 2021-02-04 08:00:00\n",
      "2021-02-05  10.02 2021-02-05 00:30:00 2021-02-05 08:00:00\n",
      "2021-02-06  10.02 2021-02-06 00:30:00 2021-02-06 08:00:00\n",
      "2021-02-07  10.02 2021-02-07 00:30:00 2021-02-07 08:00:00\n",
      "2021-02-08  10.02 2021-02-08 00:30:00 2021-02-08 08:00:00 \n",
      "\n",
      "20.01: S-H1\n",
      "\n",
      "               ID                   S                  H1\n",
      "2021-02-07  20.01 2021-02-07 23:50:00 2021-02-09 00:10:00\n",
      "2021-02-08  20.01 2021-02-08 23:50:00 2021-02-10 00:10:00\n",
      "2021-02-09  20.01 2021-02-09 23:50:00 2021-02-11 00:10:00\n",
      "2021-02-10  20.01 2021-02-10 23:50:00 2021-02-12 00:10:00\n",
      "2021-02-11  20.01 2021-02-11 23:50:00 2021-02-13 00:10:00\n",
      "2021-02-12  20.01 2021-02-12 23:50:00 2021-02-14 00:10:00\n",
      "2021-02-13  20.01 2021-02-13 23:50:00 2021-02-15 00:10:00 \n",
      "\n",
      "20.02: H1-T\n",
      "\n",
      "               ID                  H1                   T\n",
      "2021-02-09  20.02 2021-02-09 00:10:00 2021-02-09 07:40:00\n",
      "2021-02-10  20.02 2021-02-10 00:10:00 2021-02-10 07:40:00\n",
      "2021-02-11  20.02 2021-02-11 00:10:00 2021-02-11 07:40:00\n",
      "2021-02-12  20.02 2021-02-12 00:10:00 2021-02-12 07:40:00\n",
      "2021-02-13  20.02 2021-02-13 00:10:00 2021-02-13 07:40:00\n",
      "2021-02-14  20.02 2021-02-14 00:10:00 2021-02-14 07:40:00\n",
      "2021-02-15  20.02 2021-02-15 00:10:00 2021-02-15 07:40:00 \n",
      "\n",
      "30.01: D-H1\n",
      "\n",
      "               ID                   D                  H1\n",
      "2021-02-15  30.01 2021-02-15 02:00:00 2021-02-16 00:30:00\n",
      "2021-02-16  30.01 2021-02-16 02:00:00 2021-02-17 00:30:00\n",
      "2021-02-17  30.01 2021-02-17 02:00:00 2021-02-18 00:30:00\n",
      "2021-02-18  30.01 2021-02-18 02:00:00 2021-02-19 00:30:00\n",
      "2021-02-19  30.01 2021-02-19 02:00:00 2021-02-20 00:30:00\n",
      "2021-02-20  30.01 2021-02-20 02:00:00 2021-02-21 00:30:00 \n",
      "\n",
      "30.02: H1-T\n",
      "\n",
      "               ID                  H1                   T\n",
      "2021-02-16  30.02 2021-02-16 00:30:00 2021-02-16 08:00:00\n",
      "2021-02-17  30.02 2021-02-17 00:30:00 2021-02-17 08:00:00\n",
      "2021-02-18  30.02 2021-02-18 00:30:00 2021-02-18 08:00:00\n",
      "2021-02-19  30.02 2021-02-19 00:30:00 2021-02-19 08:00:00\n",
      "2021-02-20  30.02 2021-02-20 00:30:00 2021-02-20 08:00:00\n",
      "2021-02-21  30.02 2021-02-21 00:30:00 2021-02-21 08:00:00 \n",
      "\n"
     ]
    }
   ],
   "source": [
    "for section in t.sections:\n",
    "    print(f\"{section.section_id}: {section}\\n\")\n",
    "    print(section.to_dataframe(), \"\\n\")\n",
    "\n"
   ]
  },
  {
   "cell_type": "code",
   "execution_count": 18,
   "metadata": {},
   "outputs": [],
   "source": []
  }
 ],
 "metadata": {
  "kernelspec": {
   "name": "pycharm-99adecf0",
   "language": "python",
   "display_name": "PyCharm (tom)"
  },
  "language_info": {
   "codemirror_mode": {
    "name": "ipython",
    "version": 3
   },
   "file_extension": ".py",
   "mimetype": "text/x-python",
   "name": "python",
   "nbconvert_exporter": "python",
   "pygments_lexer": "ipython3",
   "version": "3.9.1"
  }
 },
 "nbformat": 4,
 "nbformat_minor": 1
}