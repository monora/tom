{
 "cells": [
  {
   "cell_type": "markdown",
   "metadata": {},
   "source": [
    "# Introduce TOM with examples\n",
    "\n",
    "## List of examples\n",
    "The directory [tests/data](https://github.com/monora/tom/tree/master/tests/data) contains the list of example trains specifications."
   ]
  },
  {
   "cell_type": "code",
   "execution_count": 12,
   "metadata": {
    "pycharm": {
     "name": "#%%\n"
    }
   },
   "outputs": [
    {
     "data": {
      "text/plain": "['train-a-f-v2.yml',\n 'train-a-f.yml',\n 'train-ac-ff-v2.yml',\n 'train-ac-ff.yml',\n 'train-annex-4-2.yml',\n 'train-annex-4-3.yml',\n 'train-annex-4.yml',\n 'train-condensed-1.yml',\n 'train-condensed-2.yml',\n 'train-otr-test-1.yml']"
     },
     "execution_count": 12,
     "metadata": {},
     "output_type": "execute_result"
    }
   ],
   "source": [
    "import os\n",
    "test_data = '../tests/data'\n",
    "train_specs = os.listdir(test_data)\n",
    "train_specs"
   ]
  },
  {
   "cell_type": "markdown",
   "metadata": {
    "pycharm": {
     "name": "#%% md\n"
    }
   },
   "source": [
    "## Import tom module"
   ]
  },
  {
   "cell_type": "code",
   "execution_count": 13,
   "metadata": {
    "pycharm": {
     "name": "#%%\n"
    }
   },
   "outputs": [],
   "source": [
    "from tom.tom import *\n",
    "from pathlib import Path"
   ]
  },
  {
   "cell_type": "markdown",
   "metadata": {
    "pycharm": {
     "name": "#%% md\n"
    }
   },
   "source": [
    "## Load example from YAML test data\n",
    "\n",
    "Notice the route sections which have a departure time.\n",
    "These are considered as _route construction starts_.\n",
    "Only one section in a route may be a construction start."
   ]
  },
  {
   "cell_type": "code",
   "execution_count": 14,
   "metadata": {
    "pycharm": {
     "name": "#%%\n"
    }
   },
   "outputs": [
    {
     "name": "stdout",
     "output_type": "stream",
     "text": [
      "---\n",
      "coreID: ID1\n",
      "lead_ru: RU1\n",
      "version: 1 # RoutingInfo version\n",
      "sections:\n",
      "    - id: 10.01\n",
      "      version: 1 # RouteSection version\n",
      "      applicant_ru: RU1\n",
      "      planning_im: IM1\n",
      "      departure_station: S\n",
      "      departure_time: '00:10:00' # => Route Construction Start\n",
      "      arrival_station: H1\n",
      "      travel_time: &s1-tt '24:20:00'\n",
      "      calendar:\n",
      "        begin: '2021-02-01'\n",
      "        end: '2021-02-07'\n",
      "      succ:\n",
      "          - 10.02\n",
      "    - id: 10.02\n",
      "      version: 1\n",
      "      applicant_ru: RU2\n",
      "      planning_im: IM2\n",
      "      departure_station: H1\n",
      "      arrival_station: T\n",
      "      travel_time: &s2-tt 07:30:00\n",
      "    - id: 20.01\n",
      "      version: 1\n",
      "      applicant_ru: RU1\n",
      "      planning_im: IM1\n",
      "      departure_station: S\n",
      "      departure_time: '23:50:00' # => Route Construction Start\n",
      "      arrival_station: H1\n",
      "      travel_time: *s1-tt\n",
      "      calendar:\n",
      "        begin: '2021-02-07'\n",
      "        end: '2021-02-13'\n",
      "      succ:\n",
      "          - 20.02\n",
      "    - id: 20.02\n",
      "      version: 1\n",
      "      applicant_ru: RU2\n",
      "      planning_im: IM2\n",
      "      departure_station: H1\n",
      "      arrival_station: T\n",
      "      travel_time: *s2-tt\n",
      "    - id: 30.01\n",
      "      version: 1\n",
      "      applicant_ru: RU1\n",
      "      planning_im: IM1\n",
      "      departure_station: D\n",
      "      departure_time: '02:00:00' # => Route Construction Start\n",
      "      arrival_station: H1\n",
      "      travel_time: '22:30:00'\n",
      "      calendar:\n",
      "        begin: '2021-02-15'\n",
      "        end: '2021-02-20'\n",
      "      succ:\n",
      "          - 30.02\n",
      "    - id: 30.02\n",
      "      version: 1\n",
      "      applicant_ru: RU2\n",
      "      planning_im: IM2\n",
      "      departure_station: H1\n",
      "      arrival_station: T\n",
      "      travel_time: *s2-tt\n",
      "\n"
     ]
    }
   ],
   "source": [
    "# Select train spec by name\n",
    "t_spec_file = test_data + '/'\n",
    "t_spec_file += next(spec for spec in train_specs if 'annex-4.yml' in spec)\n",
    "# Show contents\n",
    "print(Path(t_spec_file).read_text())"
   ]
  },
  {
   "cell_type": "markdown",
   "metadata": {
    "pycharm": {
     "name": "#%% md\n"
    }
   },
   "source": [
    "## Parse yaml spec and create train object"
   ]
  },
  {
   "cell_type": "code",
   "execution_count": 15,
   "metadata": {
    "pycharm": {
     "name": "#%%\n"
    }
   },
   "outputs": [],
   "source": [
    "t = make_train_from_yml(Path(t_spec_file))"
   ]
  },
  {
   "cell_type": "markdown",
   "metadata": {
    "pycharm": {
     "name": "#%% md\n"
    }
   },
   "source": [
    "## Investigate train data structure\n",
    "### Which train id?"
   ]
  },
  {
   "cell_type": "code",
   "execution_count": 16,
   "metadata": {
    "pycharm": {
     "name": "#%%\n"
    }
   },
   "outputs": [
    {
     "data": {
      "text/plain": "'TR/8350/ID1/2021'"
     },
     "execution_count": 16,
     "metadata": {},
     "output_type": "execute_result"
    }
   ],
   "source": [
    "t.train_id()"
   ]
  },
  {
   "cell_type": "markdown",
   "metadata": {
    "pycharm": {
     "name": "#%% md\n"
    }
   },
   "source": [
    "### Show timetable as pandas dataframe\n",
    "Notice the number after the timestamp of departure and arrivals. It denotes the day offset of the timestamp relative to the construction start section. This is the single section of a train run in the YAML specification, which has a departure time."
   ]
  },
  {
   "cell_type": "code",
   "execution_count": 17,
   "metadata": {
    "pycharm": {
     "name": "#%%\n"
    }
   },
   "outputs": [
    {
     "data": {
      "text/plain": "                                             Departure D  \\\nTR/8350/ID1/2021/10.01/2021-02-01                          \nTR/8350/ID1/2021/10.01/2021-02-02                          \nTR/8350/ID1/2021/10.01/2021-02-03                          \nTR/8350/ID1/2021/10.01/2021-02-04                          \nTR/8350/ID1/2021/10.01/2021-02-05                          \nTR/8350/ID1/2021/10.01/2021-02-06                          \nTR/8350/ID1/2021/10.01/2021-02-07                          \nTR/8350/ID1/2021/20.01/2021-02-07                          \nTR/8350/ID1/2021/20.01/2021-02-08                          \nTR/8350/ID1/2021/20.01/2021-02-09                          \nTR/8350/ID1/2021/20.01/2021-02-10                          \nTR/8350/ID1/2021/20.01/2021-02-11                          \nTR/8350/ID1/2021/20.01/2021-02-12                          \nTR/8350/ID1/2021/20.01/2021-02-13                          \nTR/8350/ID1/2021/30.01/2021-02-15  Mon 15.02.21 02:00  0   \nTR/8350/ID1/2021/30.01/2021-02-16  Tue 16.02.21 02:00  0   \nTR/8350/ID1/2021/30.01/2021-02-17  Wed 17.02.21 02:00  0   \nTR/8350/ID1/2021/30.01/2021-02-18  Thu 18.02.21 02:00  0   \nTR/8350/ID1/2021/30.01/2021-02-19  Fri 19.02.21 02:00  0   \nTR/8350/ID1/2021/30.01/2021-02-20  Sat 20.02.21 02:00  0   \n\n                                             Departure S  \\\nTR/8350/ID1/2021/10.01/2021-02-01  Mon 01.02.21 00:10  0   \nTR/8350/ID1/2021/10.01/2021-02-02  Tue 02.02.21 00:10  0   \nTR/8350/ID1/2021/10.01/2021-02-03  Wed 03.02.21 00:10  0   \nTR/8350/ID1/2021/10.01/2021-02-04  Thu 04.02.21 00:10  0   \nTR/8350/ID1/2021/10.01/2021-02-05  Fri 05.02.21 00:10  0   \nTR/8350/ID1/2021/10.01/2021-02-06  Sat 06.02.21 00:10  0   \nTR/8350/ID1/2021/10.01/2021-02-07  Sun 07.02.21 00:10  0   \nTR/8350/ID1/2021/20.01/2021-02-07  Sun 07.02.21 23:50  0   \nTR/8350/ID1/2021/20.01/2021-02-08  Mon 08.02.21 23:50  0   \nTR/8350/ID1/2021/20.01/2021-02-09  Tue 09.02.21 23:50  0   \nTR/8350/ID1/2021/20.01/2021-02-10  Wed 10.02.21 23:50  0   \nTR/8350/ID1/2021/20.01/2021-02-11  Thu 11.02.21 23:50  0   \nTR/8350/ID1/2021/20.01/2021-02-12  Fri 12.02.21 23:50  0   \nTR/8350/ID1/2021/20.01/2021-02-13  Sat 13.02.21 23:50  0   \nTR/8350/ID1/2021/30.01/2021-02-15                          \nTR/8350/ID1/2021/30.01/2021-02-16                          \nTR/8350/ID1/2021/30.01/2021-02-17                          \nTR/8350/ID1/2021/30.01/2021-02-18                          \nTR/8350/ID1/2021/30.01/2021-02-19                          \nTR/8350/ID1/2021/30.01/2021-02-20                          \n\n                                              Arrival H1  \\\nTR/8350/ID1/2021/10.01/2021-02-01  Tue 02.02.21 00:30  1   \nTR/8350/ID1/2021/10.01/2021-02-02  Wed 03.02.21 00:30  1   \nTR/8350/ID1/2021/10.01/2021-02-03  Thu 04.02.21 00:30  1   \nTR/8350/ID1/2021/10.01/2021-02-04  Fri 05.02.21 00:30  1   \nTR/8350/ID1/2021/10.01/2021-02-05  Sat 06.02.21 00:30  1   \nTR/8350/ID1/2021/10.01/2021-02-06  Sun 07.02.21 00:30  1   \nTR/8350/ID1/2021/10.01/2021-02-07  Mon 08.02.21 00:30  1   \nTR/8350/ID1/2021/20.01/2021-02-07  Tue 09.02.21 00:10  2   \nTR/8350/ID1/2021/20.01/2021-02-08  Wed 10.02.21 00:10  2   \nTR/8350/ID1/2021/20.01/2021-02-09  Thu 11.02.21 00:10  2   \nTR/8350/ID1/2021/20.01/2021-02-10  Fri 12.02.21 00:10  2   \nTR/8350/ID1/2021/20.01/2021-02-11  Sat 13.02.21 00:10  2   \nTR/8350/ID1/2021/20.01/2021-02-12  Sun 14.02.21 00:10  2   \nTR/8350/ID1/2021/20.01/2021-02-13  Mon 15.02.21 00:10  2   \nTR/8350/ID1/2021/30.01/2021-02-15  Tue 16.02.21 00:30  1   \nTR/8350/ID1/2021/30.01/2021-02-16  Wed 17.02.21 00:30  1   \nTR/8350/ID1/2021/30.01/2021-02-17  Thu 18.02.21 00:30  1   \nTR/8350/ID1/2021/30.01/2021-02-18  Fri 19.02.21 00:30  1   \nTR/8350/ID1/2021/30.01/2021-02-19  Sat 20.02.21 00:30  1   \nTR/8350/ID1/2021/30.01/2021-02-20  Sun 21.02.21 00:30  1   \n\n                                            Departure H1  \\\nTR/8350/ID1/2021/10.01/2021-02-01  Tue 02.02.21 00:30  1   \nTR/8350/ID1/2021/10.01/2021-02-02  Wed 03.02.21 00:30  1   \nTR/8350/ID1/2021/10.01/2021-02-03  Thu 04.02.21 00:30  1   \nTR/8350/ID1/2021/10.01/2021-02-04  Fri 05.02.21 00:30  1   \nTR/8350/ID1/2021/10.01/2021-02-05  Sat 06.02.21 00:30  1   \nTR/8350/ID1/2021/10.01/2021-02-06  Sun 07.02.21 00:30  1   \nTR/8350/ID1/2021/10.01/2021-02-07  Mon 08.02.21 00:30  1   \nTR/8350/ID1/2021/20.01/2021-02-07  Tue 09.02.21 00:10  2   \nTR/8350/ID1/2021/20.01/2021-02-08  Wed 10.02.21 00:10  2   \nTR/8350/ID1/2021/20.01/2021-02-09  Thu 11.02.21 00:10  2   \nTR/8350/ID1/2021/20.01/2021-02-10  Fri 12.02.21 00:10  2   \nTR/8350/ID1/2021/20.01/2021-02-11  Sat 13.02.21 00:10  2   \nTR/8350/ID1/2021/20.01/2021-02-12  Sun 14.02.21 00:10  2   \nTR/8350/ID1/2021/20.01/2021-02-13  Mon 15.02.21 00:10  2   \nTR/8350/ID1/2021/30.01/2021-02-15  Tue 16.02.21 00:30  1   \nTR/8350/ID1/2021/30.01/2021-02-16  Wed 17.02.21 00:30  1   \nTR/8350/ID1/2021/30.01/2021-02-17  Thu 18.02.21 00:30  1   \nTR/8350/ID1/2021/30.01/2021-02-18  Fri 19.02.21 00:30  1   \nTR/8350/ID1/2021/30.01/2021-02-19  Sat 20.02.21 00:30  1   \nTR/8350/ID1/2021/30.01/2021-02-20  Sun 21.02.21 00:30  1   \n\n                                               Arrival T  \nTR/8350/ID1/2021/10.01/2021-02-01  Tue 02.02.21 08:00  1  \nTR/8350/ID1/2021/10.01/2021-02-02  Wed 03.02.21 08:00  1  \nTR/8350/ID1/2021/10.01/2021-02-03  Thu 04.02.21 08:00  1  \nTR/8350/ID1/2021/10.01/2021-02-04  Fri 05.02.21 08:00  1  \nTR/8350/ID1/2021/10.01/2021-02-05  Sat 06.02.21 08:00  1  \nTR/8350/ID1/2021/10.01/2021-02-06  Sun 07.02.21 08:00  1  \nTR/8350/ID1/2021/10.01/2021-02-07  Mon 08.02.21 08:00  1  \nTR/8350/ID1/2021/20.01/2021-02-07  Tue 09.02.21 07:40  2  \nTR/8350/ID1/2021/20.01/2021-02-08  Wed 10.02.21 07:40  2  \nTR/8350/ID1/2021/20.01/2021-02-09  Thu 11.02.21 07:40  2  \nTR/8350/ID1/2021/20.01/2021-02-10  Fri 12.02.21 07:40  2  \nTR/8350/ID1/2021/20.01/2021-02-11  Sat 13.02.21 07:40  2  \nTR/8350/ID1/2021/20.01/2021-02-12  Sun 14.02.21 07:40  2  \nTR/8350/ID1/2021/20.01/2021-02-13  Mon 15.02.21 07:40  2  \nTR/8350/ID1/2021/30.01/2021-02-15  Tue 16.02.21 08:00  1  \nTR/8350/ID1/2021/30.01/2021-02-16  Wed 17.02.21 08:00  1  \nTR/8350/ID1/2021/30.01/2021-02-17  Thu 18.02.21 08:00  1  \nTR/8350/ID1/2021/30.01/2021-02-18  Fri 19.02.21 08:00  1  \nTR/8350/ID1/2021/30.01/2021-02-19  Sat 20.02.21 08:00  1  \nTR/8350/ID1/2021/30.01/2021-02-20  Sun 21.02.21 08:00  1  ",
      "text/html": "<div>\n<style scoped>\n    .dataframe tbody tr th:only-of-type {\n        vertical-align: middle;\n    }\n\n    .dataframe tbody tr th {\n        vertical-align: top;\n    }\n\n    .dataframe thead th {\n        text-align: right;\n    }\n</style>\n<table border=\"1\" class=\"dataframe\">\n  <thead>\n    <tr style=\"text-align: right;\">\n      <th></th>\n      <th>Departure D</th>\n      <th>Departure S</th>\n      <th>Arrival H1</th>\n      <th>Departure H1</th>\n      <th>Arrival T</th>\n    </tr>\n  </thead>\n  <tbody>\n    <tr>\n      <th>TR/8350/ID1/2021/10.01/2021-02-01</th>\n      <td></td>\n      <td>Mon 01.02.21 00:10  0</td>\n      <td>Tue 02.02.21 00:30  1</td>\n      <td>Tue 02.02.21 00:30  1</td>\n      <td>Tue 02.02.21 08:00  1</td>\n    </tr>\n    <tr>\n      <th>TR/8350/ID1/2021/10.01/2021-02-02</th>\n      <td></td>\n      <td>Tue 02.02.21 00:10  0</td>\n      <td>Wed 03.02.21 00:30  1</td>\n      <td>Wed 03.02.21 00:30  1</td>\n      <td>Wed 03.02.21 08:00  1</td>\n    </tr>\n    <tr>\n      <th>TR/8350/ID1/2021/10.01/2021-02-03</th>\n      <td></td>\n      <td>Wed 03.02.21 00:10  0</td>\n      <td>Thu 04.02.21 00:30  1</td>\n      <td>Thu 04.02.21 00:30  1</td>\n      <td>Thu 04.02.21 08:00  1</td>\n    </tr>\n    <tr>\n      <th>TR/8350/ID1/2021/10.01/2021-02-04</th>\n      <td></td>\n      <td>Thu 04.02.21 00:10  0</td>\n      <td>Fri 05.02.21 00:30  1</td>\n      <td>Fri 05.02.21 00:30  1</td>\n      <td>Fri 05.02.21 08:00  1</td>\n    </tr>\n    <tr>\n      <th>TR/8350/ID1/2021/10.01/2021-02-05</th>\n      <td></td>\n      <td>Fri 05.02.21 00:10  0</td>\n      <td>Sat 06.02.21 00:30  1</td>\n      <td>Sat 06.02.21 00:30  1</td>\n      <td>Sat 06.02.21 08:00  1</td>\n    </tr>\n    <tr>\n      <th>TR/8350/ID1/2021/10.01/2021-02-06</th>\n      <td></td>\n      <td>Sat 06.02.21 00:10  0</td>\n      <td>Sun 07.02.21 00:30  1</td>\n      <td>Sun 07.02.21 00:30  1</td>\n      <td>Sun 07.02.21 08:00  1</td>\n    </tr>\n    <tr>\n      <th>TR/8350/ID1/2021/10.01/2021-02-07</th>\n      <td></td>\n      <td>Sun 07.02.21 00:10  0</td>\n      <td>Mon 08.02.21 00:30  1</td>\n      <td>Mon 08.02.21 00:30  1</td>\n      <td>Mon 08.02.21 08:00  1</td>\n    </tr>\n    <tr>\n      <th>TR/8350/ID1/2021/20.01/2021-02-07</th>\n      <td></td>\n      <td>Sun 07.02.21 23:50  0</td>\n      <td>Tue 09.02.21 00:10  2</td>\n      <td>Tue 09.02.21 00:10  2</td>\n      <td>Tue 09.02.21 07:40  2</td>\n    </tr>\n    <tr>\n      <th>TR/8350/ID1/2021/20.01/2021-02-08</th>\n      <td></td>\n      <td>Mon 08.02.21 23:50  0</td>\n      <td>Wed 10.02.21 00:10  2</td>\n      <td>Wed 10.02.21 00:10  2</td>\n      <td>Wed 10.02.21 07:40  2</td>\n    </tr>\n    <tr>\n      <th>TR/8350/ID1/2021/20.01/2021-02-09</th>\n      <td></td>\n      <td>Tue 09.02.21 23:50  0</td>\n      <td>Thu 11.02.21 00:10  2</td>\n      <td>Thu 11.02.21 00:10  2</td>\n      <td>Thu 11.02.21 07:40  2</td>\n    </tr>\n    <tr>\n      <th>TR/8350/ID1/2021/20.01/2021-02-10</th>\n      <td></td>\n      <td>Wed 10.02.21 23:50  0</td>\n      <td>Fri 12.02.21 00:10  2</td>\n      <td>Fri 12.02.21 00:10  2</td>\n      <td>Fri 12.02.21 07:40  2</td>\n    </tr>\n    <tr>\n      <th>TR/8350/ID1/2021/20.01/2021-02-11</th>\n      <td></td>\n      <td>Thu 11.02.21 23:50  0</td>\n      <td>Sat 13.02.21 00:10  2</td>\n      <td>Sat 13.02.21 00:10  2</td>\n      <td>Sat 13.02.21 07:40  2</td>\n    </tr>\n    <tr>\n      <th>TR/8350/ID1/2021/20.01/2021-02-12</th>\n      <td></td>\n      <td>Fri 12.02.21 23:50  0</td>\n      <td>Sun 14.02.21 00:10  2</td>\n      <td>Sun 14.02.21 00:10  2</td>\n      <td>Sun 14.02.21 07:40  2</td>\n    </tr>\n    <tr>\n      <th>TR/8350/ID1/2021/20.01/2021-02-13</th>\n      <td></td>\n      <td>Sat 13.02.21 23:50  0</td>\n      <td>Mon 15.02.21 00:10  2</td>\n      <td>Mon 15.02.21 00:10  2</td>\n      <td>Mon 15.02.21 07:40  2</td>\n    </tr>\n    <tr>\n      <th>TR/8350/ID1/2021/30.01/2021-02-15</th>\n      <td>Mon 15.02.21 02:00  0</td>\n      <td></td>\n      <td>Tue 16.02.21 00:30  1</td>\n      <td>Tue 16.02.21 00:30  1</td>\n      <td>Tue 16.02.21 08:00  1</td>\n    </tr>\n    <tr>\n      <th>TR/8350/ID1/2021/30.01/2021-02-16</th>\n      <td>Tue 16.02.21 02:00  0</td>\n      <td></td>\n      <td>Wed 17.02.21 00:30  1</td>\n      <td>Wed 17.02.21 00:30  1</td>\n      <td>Wed 17.02.21 08:00  1</td>\n    </tr>\n    <tr>\n      <th>TR/8350/ID1/2021/30.01/2021-02-17</th>\n      <td>Wed 17.02.21 02:00  0</td>\n      <td></td>\n      <td>Thu 18.02.21 00:30  1</td>\n      <td>Thu 18.02.21 00:30  1</td>\n      <td>Thu 18.02.21 08:00  1</td>\n    </tr>\n    <tr>\n      <th>TR/8350/ID1/2021/30.01/2021-02-18</th>\n      <td>Thu 18.02.21 02:00  0</td>\n      <td></td>\n      <td>Fri 19.02.21 00:30  1</td>\n      <td>Fri 19.02.21 00:30  1</td>\n      <td>Fri 19.02.21 08:00  1</td>\n    </tr>\n    <tr>\n      <th>TR/8350/ID1/2021/30.01/2021-02-19</th>\n      <td>Fri 19.02.21 02:00  0</td>\n      <td></td>\n      <td>Sat 20.02.21 00:30  1</td>\n      <td>Sat 20.02.21 00:30  1</td>\n      <td>Sat 20.02.21 08:00  1</td>\n    </tr>\n    <tr>\n      <th>TR/8350/ID1/2021/30.01/2021-02-20</th>\n      <td>Sat 20.02.21 02:00  0</td>\n      <td></td>\n      <td>Sun 21.02.21 00:30  1</td>\n      <td>Sun 21.02.21 00:30  1</td>\n      <td>Sun 21.02.21 08:00  1</td>\n    </tr>\n  </tbody>\n</table>\n</div>"
     },
     "execution_count": 17,
     "metadata": {},
     "output_type": "execute_result"
    }
   ],
   "source": [
    "timetable = t.to_dataframe()\n",
    "timetable"
   ]
  },
  {
   "cell_type": "markdown",
   "metadata": {
    "pycharm": {
     "name": "#%% md\n"
    }
   },
   "source": [
    "## Train sections\n",
    "From which sections the train is composed?"
   ]
  },
  {
   "cell_type": "code",
   "execution_count": 18,
   "metadata": {
    "pycharm": {
     "name": "#%%\n"
    }
   },
   "outputs": [
    {
     "name": "stdout",
     "output_type": "stream",
     "text": [
      "ID        : 10.01v1\n",
      "Calender  : 01/02 to 07/02\n",
      "Start   at: 00:10 in S\n",
      "Arrival at: 00:30 in H1\n",
      "Successors: [10.02] \n",
      "\n",
      "ID        : 10.02v1\n",
      "Calender  : 02/02 to 08/02\n",
      "Start   at: 00:30 in H1\n",
      "Arrival at: 08:00 in T\n",
      "Successors: [] \n",
      "\n",
      "ID        : 20.01v1\n",
      "Calender  : 07/02 to 13/02\n",
      "Start   at: 23:50 in S\n",
      "Arrival at: 00:10 in H1\n",
      "Successors: [20.02] \n",
      "\n",
      "ID        : 20.02v1\n",
      "Calender  : 09/02 to 15/02\n",
      "Start   at: 00:10 in H1\n",
      "Arrival at: 07:40 in T\n",
      "Successors: [] \n",
      "\n",
      "ID        : 30.01v1\n",
      "Calender  : 15/02 to 20/02\n",
      "Start   at: 02:00 in D\n",
      "Arrival at: 00:30 in H1\n",
      "Successors: [30.02] \n",
      "\n",
      "ID        : 30.02v1\n",
      "Calender  : 16/02 to 21/02\n",
      "Start   at: 00:30 in H1\n",
      "Arrival at: 08:00 in T\n",
      "Successors: [] \n",
      "\n"
     ]
    }
   ],
   "source": [
    "for section in t.sections:\n",
    "    print(section.description(), \"\\n\")"
   ]
  },
  {
   "cell_type": "markdown",
   "metadata": {
    "pycharm": {
     "name": "#%% md\n"
    }
   },
   "source": [
    "## Section graph\n",
    "The section graph is computed using the successor relation:"
   ]
  },
  {
   "cell_type": "code",
   "execution_count": 19,
   "metadata": {
    "pycharm": {
     "name": "#%%\n"
    }
   },
   "outputs": [
    {
     "data": {
      "text/plain": "OutEdgeView([('10.01v1', '10.02v1'), ('20.01v1', '20.02v1'), ('30.01v1', '30.02v1')])"
     },
     "execution_count": 19,
     "metadata": {},
     "output_type": "execute_result"
    }
   ],
   "source": [
    "sg = t.section_graph()\n",
    "sg.edges"
   ]
  },
  {
   "cell_type": "markdown",
   "metadata": {
    "pycharm": {
     "name": "#%% md\n"
    }
   },
   "source": [
    "## Section runs\n",
    "For each day of a section a *section run* is created.\n",
    "The section runs are the rows of *RouteSection.to_dataframe*:"
   ]
  },
  {
   "cell_type": "code",
   "execution_count": 20,
   "metadata": {
    "pycharm": {
     "name": "#%%\n"
    }
   },
   "outputs": [
    {
     "name": "stdout",
     "output_type": "stream",
     "text": [
      "10.01: S-H1\n",
      "               ID                   S                  H1\n",
      "2021-02-01  10.01 2021-02-01 00:10:00 2021-02-02 00:30:00\n",
      "2021-02-02  10.01 2021-02-02 00:10:00 2021-02-03 00:30:00\n",
      "2021-02-03  10.01 2021-02-03 00:10:00 2021-02-04 00:30:00\n",
      "2021-02-04  10.01 2021-02-04 00:10:00 2021-02-05 00:30:00\n",
      "2021-02-05  10.01 2021-02-05 00:10:00 2021-02-06 00:30:00\n",
      "2021-02-06  10.01 2021-02-06 00:10:00 2021-02-07 00:30:00\n",
      "2021-02-07  10.01 2021-02-07 00:10:00 2021-02-08 00:30:00 \n",
      "\n",
      "10.02: H1-T\n",
      "               ID                  H1                   T\n",
      "2021-02-02  10.02 2021-02-02 00:30:00 2021-02-02 08:00:00\n",
      "2021-02-03  10.02 2021-02-03 00:30:00 2021-02-03 08:00:00\n",
      "2021-02-04  10.02 2021-02-04 00:30:00 2021-02-04 08:00:00\n",
      "2021-02-05  10.02 2021-02-05 00:30:00 2021-02-05 08:00:00\n",
      "2021-02-06  10.02 2021-02-06 00:30:00 2021-02-06 08:00:00\n",
      "2021-02-07  10.02 2021-02-07 00:30:00 2021-02-07 08:00:00\n",
      "2021-02-08  10.02 2021-02-08 00:30:00 2021-02-08 08:00:00 \n",
      "\n",
      "20.01: S-H1\n",
      "               ID                   S                  H1\n",
      "2021-02-07  20.01 2021-02-07 23:50:00 2021-02-09 00:10:00\n",
      "2021-02-08  20.01 2021-02-08 23:50:00 2021-02-10 00:10:00\n",
      "2021-02-09  20.01 2021-02-09 23:50:00 2021-02-11 00:10:00\n",
      "2021-02-10  20.01 2021-02-10 23:50:00 2021-02-12 00:10:00\n",
      "2021-02-11  20.01 2021-02-11 23:50:00 2021-02-13 00:10:00\n",
      "2021-02-12  20.01 2021-02-12 23:50:00 2021-02-14 00:10:00\n",
      "2021-02-13  20.01 2021-02-13 23:50:00 2021-02-15 00:10:00 \n",
      "\n",
      "20.02: H1-T\n",
      "               ID                  H1                   T\n",
      "2021-02-09  20.02 2021-02-09 00:10:00 2021-02-09 07:40:00\n",
      "2021-02-10  20.02 2021-02-10 00:10:00 2021-02-10 07:40:00\n",
      "2021-02-11  20.02 2021-02-11 00:10:00 2021-02-11 07:40:00\n",
      "2021-02-12  20.02 2021-02-12 00:10:00 2021-02-12 07:40:00\n",
      "2021-02-13  20.02 2021-02-13 00:10:00 2021-02-13 07:40:00\n",
      "2021-02-14  20.02 2021-02-14 00:10:00 2021-02-14 07:40:00\n",
      "2021-02-15  20.02 2021-02-15 00:10:00 2021-02-15 07:40:00 \n",
      "\n",
      "30.01: D-H1\n",
      "               ID                   D                  H1\n",
      "2021-02-15  30.01 2021-02-15 02:00:00 2021-02-16 00:30:00\n",
      "2021-02-16  30.01 2021-02-16 02:00:00 2021-02-17 00:30:00\n",
      "2021-02-17  30.01 2021-02-17 02:00:00 2021-02-18 00:30:00\n",
      "2021-02-18  30.01 2021-02-18 02:00:00 2021-02-19 00:30:00\n",
      "2021-02-19  30.01 2021-02-19 02:00:00 2021-02-20 00:30:00\n",
      "2021-02-20  30.01 2021-02-20 02:00:00 2021-02-21 00:30:00 \n",
      "\n",
      "30.02: H1-T\n",
      "               ID                  H1                   T\n",
      "2021-02-16  30.02 2021-02-16 00:30:00 2021-02-16 08:00:00\n",
      "2021-02-17  30.02 2021-02-17 00:30:00 2021-02-17 08:00:00\n",
      "2021-02-18  30.02 2021-02-18 00:30:00 2021-02-18 08:00:00\n",
      "2021-02-19  30.02 2021-02-19 00:30:00 2021-02-19 08:00:00\n",
      "2021-02-20  30.02 2021-02-20 00:30:00 2021-02-20 08:00:00\n",
      "2021-02-21  30.02 2021-02-21 00:30:00 2021-02-21 08:00:00 \n",
      "\n"
     ]
    }
   ],
   "source": [
    "for section in t.sections:\n",
    "    print(f\"{section.section_id}: {section}\")\n",
    "    print(section.to_dataframe(), \"\\n\")"
   ]
  },
  {
   "cell_type": "markdown",
   "metadata": {
    "pycharm": {
     "name": "#%% md\n"
    }
   },
   "source": [
    "## Train runs"
   ]
  },
  {
   "cell_type": "code",
   "execution_count": 21,
   "metadata": {
    "pycharm": {
     "name": "#%%\n"
    }
   },
   "outputs": [
    {
     "name": "stdout",
     "output_type": "stream",
     "text": [
      "TR/8350/ID1/2021/10.01/2021-02-01\n",
      "10.01v1:2021-02-01 00:10 OTR=0 S-H1 2021-02-02 00:30 OTR=1\n",
      "10.02v1:2021-02-02 00:30 OTR=1 H1-T 2021-02-02 08:00 OTR=1\n",
      "\n",
      "\n",
      "TR/8350/ID1/2021/10.01/2021-02-02\n",
      "10.01v1:2021-02-02 00:10 OTR=0 S-H1 2021-02-03 00:30 OTR=1\n",
      "10.02v1:2021-02-03 00:30 OTR=1 H1-T 2021-02-03 08:00 OTR=1\n",
      "\n",
      "\n",
      "TR/8350/ID1/2021/10.01/2021-02-03\n",
      "10.01v1:2021-02-03 00:10 OTR=0 S-H1 2021-02-04 00:30 OTR=1\n",
      "10.02v1:2021-02-04 00:30 OTR=1 H1-T 2021-02-04 08:00 OTR=1\n",
      "\n",
      "\n",
      "TR/8350/ID1/2021/10.01/2021-02-04\n",
      "10.01v1:2021-02-04 00:10 OTR=0 S-H1 2021-02-05 00:30 OTR=1\n",
      "10.02v1:2021-02-05 00:30 OTR=1 H1-T 2021-02-05 08:00 OTR=1\n",
      "\n",
      "\n",
      "TR/8350/ID1/2021/10.01/2021-02-05\n",
      "10.01v1:2021-02-05 00:10 OTR=0 S-H1 2021-02-06 00:30 OTR=1\n",
      "10.02v1:2021-02-06 00:30 OTR=1 H1-T 2021-02-06 08:00 OTR=1\n",
      "\n",
      "\n",
      "TR/8350/ID1/2021/10.01/2021-02-06\n",
      "10.01v1:2021-02-06 00:10 OTR=0 S-H1 2021-02-07 00:30 OTR=1\n",
      "10.02v1:2021-02-07 00:30 OTR=1 H1-T 2021-02-07 08:00 OTR=1\n",
      "\n",
      "\n",
      "TR/8350/ID1/2021/10.01/2021-02-07\n",
      "10.01v1:2021-02-07 00:10 OTR=0 S-H1 2021-02-08 00:30 OTR=1\n",
      "10.02v1:2021-02-08 00:30 OTR=1 H1-T 2021-02-08 08:00 OTR=1\n",
      "\n",
      "\n",
      "TR/8350/ID1/2021/20.01/2021-02-07\n",
      "20.01v1:2021-02-07 23:50 OTR=0 S-H1 2021-02-09 00:10 OTR=2\n",
      "20.02v1:2021-02-09 00:10 OTR=2 H1-T 2021-02-09 07:40 OTR=2\n",
      "\n",
      "\n",
      "TR/8350/ID1/2021/20.01/2021-02-08\n",
      "20.01v1:2021-02-08 23:50 OTR=0 S-H1 2021-02-10 00:10 OTR=2\n",
      "20.02v1:2021-02-10 00:10 OTR=2 H1-T 2021-02-10 07:40 OTR=2\n",
      "\n",
      "\n",
      "TR/8350/ID1/2021/20.01/2021-02-09\n",
      "20.01v1:2021-02-09 23:50 OTR=0 S-H1 2021-02-11 00:10 OTR=2\n",
      "20.02v1:2021-02-11 00:10 OTR=2 H1-T 2021-02-11 07:40 OTR=2\n",
      "\n",
      "\n",
      "TR/8350/ID1/2021/20.01/2021-02-10\n",
      "20.01v1:2021-02-10 23:50 OTR=0 S-H1 2021-02-12 00:10 OTR=2\n",
      "20.02v1:2021-02-12 00:10 OTR=2 H1-T 2021-02-12 07:40 OTR=2\n",
      "\n",
      "\n",
      "TR/8350/ID1/2021/20.01/2021-02-11\n",
      "20.01v1:2021-02-11 23:50 OTR=0 S-H1 2021-02-13 00:10 OTR=2\n",
      "20.02v1:2021-02-13 00:10 OTR=2 H1-T 2021-02-13 07:40 OTR=2\n",
      "\n",
      "\n",
      "TR/8350/ID1/2021/20.01/2021-02-12\n",
      "20.01v1:2021-02-12 23:50 OTR=0 S-H1 2021-02-14 00:10 OTR=2\n",
      "20.02v1:2021-02-14 00:10 OTR=2 H1-T 2021-02-14 07:40 OTR=2\n",
      "\n",
      "\n",
      "TR/8350/ID1/2021/20.01/2021-02-13\n",
      "20.01v1:2021-02-13 23:50 OTR=0 S-H1 2021-02-15 00:10 OTR=2\n",
      "20.02v1:2021-02-15 00:10 OTR=2 H1-T 2021-02-15 07:40 OTR=2\n",
      "\n",
      "\n",
      "TR/8350/ID1/2021/30.01/2021-02-15\n",
      "30.01v1:2021-02-15 02:00 OTR=0 D-H1 2021-02-16 00:30 OTR=1\n",
      "30.02v1:2021-02-16 00:30 OTR=1 H1-T 2021-02-16 08:00 OTR=1\n",
      "\n",
      "\n",
      "TR/8350/ID1/2021/30.01/2021-02-16\n",
      "30.01v1:2021-02-16 02:00 OTR=0 D-H1 2021-02-17 00:30 OTR=1\n",
      "30.02v1:2021-02-17 00:30 OTR=1 H1-T 2021-02-17 08:00 OTR=1\n",
      "\n",
      "\n",
      "TR/8350/ID1/2021/30.01/2021-02-17\n",
      "30.01v1:2021-02-17 02:00 OTR=0 D-H1 2021-02-18 00:30 OTR=1\n",
      "30.02v1:2021-02-18 00:30 OTR=1 H1-T 2021-02-18 08:00 OTR=1\n",
      "\n",
      "\n",
      "TR/8350/ID1/2021/30.01/2021-02-18\n",
      "30.01v1:2021-02-18 02:00 OTR=0 D-H1 2021-02-19 00:30 OTR=1\n",
      "30.02v1:2021-02-19 00:30 OTR=1 H1-T 2021-02-19 08:00 OTR=1\n",
      "\n",
      "\n",
      "TR/8350/ID1/2021/30.01/2021-02-19\n",
      "30.01v1:2021-02-19 02:00 OTR=0 D-H1 2021-02-20 00:30 OTR=1\n",
      "30.02v1:2021-02-20 00:30 OTR=1 H1-T 2021-02-20 08:00 OTR=1\n",
      "\n",
      "\n",
      "TR/8350/ID1/2021/30.01/2021-02-20\n",
      "30.01v1:2021-02-20 02:00 OTR=0 D-H1 2021-02-21 00:30 OTR=1\n",
      "30.02v1:2021-02-21 00:30 OTR=1 H1-T 2021-02-21 08:00 OTR=1\n",
      "\n",
      "\n"
     ]
    }
   ],
   "source": [
    "tr: TrainRun\n",
    "for tr in t.train_run_iterator():\n",
    "    print(tr)\n",
    "    for sr in tr.sections_runs:\n",
    "        print(sr)\n",
    "    print(\"\\n\")"
   ]
  }
 ],
 "metadata": {
  "kernelspec": {
   "display_name": "Python 3",
   "language": "python",
   "name": "python3"
  },
  "language_info": {
   "codemirror_mode": {
    "name": "ipython",
    "version": 3
   },
   "file_extension": ".py",
   "mimetype": "text/x-python",
   "name": "python",
   "nbconvert_exporter": "python",
   "pygments_lexer": "ipython3",
   "version": "3.9.1"
  }
 },
 "nbformat": 4,
 "nbformat_minor": 1
}